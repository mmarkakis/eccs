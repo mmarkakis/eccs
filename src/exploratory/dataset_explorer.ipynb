{
 "cells": [
  {
   "cell_type": "code",
   "execution_count": 14,
   "metadata": {},
   "outputs": [],
   "source": [
    "import pandas as pd\n",
    "import numpy as np\n",
    "import statsmodels.api as sm"
   ]
  },
  {
   "cell_type": "code",
   "execution_count": 61,
   "metadata": {},
   "outputs": [],
   "source": [
    "import numpy as np\n",
    "import pandas as pd\n",
    "\n",
    "# Set seed for reproducibility\n",
    "np.random.seed(42)\n",
    "\n",
    "# Generate z as a series of random numbers\n",
    "z = np.random.uniform(0, 100, 100)  # mean=10, std=5, n=100\n",
    "\n",
    "# Derive x from z with added randomness\n",
    "x = z + np.random.normal(0, 1, 100)  # x is influenced by z but also has its own variance\n",
    "\n",
    "# Generate y as a function of both x and z\n",
    "y = 3 * x + z + np.random.normal(0, 1, 100)  # y depends on both x and z\n",
    "\n",
    "# Create DataFrame\n",
    "df = pd.DataFrame({'x': x, 'y': y, 'z': z})\n",
    "\n"
   ]
  },
  {
   "cell_type": "code",
   "execution_count": 62,
   "metadata": {},
   "outputs": [],
   "source": [
    "import sys\n",
    "sys.path.append('../')\n",
    "from eccs.ate import ATECalculator"
   ]
  },
  {
   "cell_type": "code",
   "execution_count": 63,
   "metadata": {},
   "outputs": [
    {
     "data": {
      "text/plain": [
       "{'ATE': 4.003760613458284, 'P-value': None, 'Standard Error': None}"
      ]
     },
     "execution_count": 63,
     "metadata": {},
     "output_type": "execute_result"
    }
   ],
   "source": [
    "ATECalculator.get_ate_and_confidence(df, 0, 1)"
   ]
  },
  {
   "cell_type": "code",
   "execution_count": 64,
   "metadata": {},
   "outputs": [
    {
     "data": {
      "text/plain": [
       "{'ATE': 2.972817549936927, 'P-value': None, 'Standard Error': None}"
      ]
     },
     "execution_count": 64,
     "metadata": {},
     "output_type": "execute_result"
    }
   ],
   "source": [
    "import networkx as nx\n",
    "g = nx.DiGraph()\n",
    "g.add_edge('x', 'y')\n",
    "g.add_edge('z', 'y')\n",
    "g.add_edge('z', 'x')\n",
    "\n",
    "ATECalculator.get_ate_and_confidence(df, 0, 1, g)"
   ]
  },
  {
   "cell_type": "code",
   "execution_count": null,
   "metadata": {},
   "outputs": [],
   "source": []
  }
 ],
 "metadata": {
  "kernelspec": {
   "display_name": "eccs-venv",
   "language": "python",
   "name": "python3"
  },
  "language_info": {
   "codemirror_mode": {
    "name": "ipython",
    "version": 3
   },
   "file_extension": ".py",
   "mimetype": "text/x-python",
   "name": "python",
   "nbconvert_exporter": "python",
   "pygments_lexer": "ipython3",
   "version": "3.11.6"
  }
 },
 "nbformat": 4,
 "nbformat_minor": 2
}
